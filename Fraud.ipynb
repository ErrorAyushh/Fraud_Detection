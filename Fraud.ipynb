{
 "cells": [
  {
   "cell_type": "markdown",
   "id": "e207ab6a-d8eb-443c-a9f1-041221e19cfb",
   "metadata": {},
   "source": [
    "# Fraud Detection in Financial Transactions\n",
    "**Author:** Ayush Kumar Singh \n",
    "**Date:** 30-Aug-2025\n"
   ]
  },
  {
   "cell_type": "code",
   "execution_count": 1,
   "id": "6257ba06-112e-4bd6-8dcf-3e76f1faaf5b",
   "metadata": {},
   "outputs": [
    {
     "name": "stdout",
     "output_type": "stream",
     "text": [
      "Requirement already satisfied: imblearn in c:\\users\\ayush\\tf_env\\lib\\site-packages (0.0)\n",
      "Requirement already satisfied: imbalanced-learn in c:\\users\\ayush\\tf_env\\lib\\site-packages (from imblearn) (0.14.0)\n",
      "Requirement already satisfied: numpy<3,>=1.25.2 in c:\\users\\ayush\\tf_env\\lib\\site-packages (from imbalanced-learn->imblearn) (2.2.6)\n",
      "Requirement already satisfied: scipy<2,>=1.11.4 in c:\\users\\ayush\\tf_env\\lib\\site-packages (from imbalanced-learn->imblearn) (1.15.3)\n",
      "Requirement already satisfied: scikit-learn<2,>=1.4.2 in c:\\users\\ayush\\tf_env\\lib\\site-packages (from imbalanced-learn->imblearn) (1.7.1)\n",
      "Requirement already satisfied: joblib<2,>=1.2.0 in c:\\users\\ayush\\tf_env\\lib\\site-packages (from imbalanced-learn->imblearn) (1.5.1)\n",
      "Requirement already satisfied: threadpoolctl<4,>=2.0.0 in c:\\users\\ayush\\tf_env\\lib\\site-packages (from imbalanced-learn->imblearn) (3.6.0)\n",
      "Note: you may need to restart the kernel to use updated packages.\n"
     ]
    }
   ],
   "source": [
    "pip install imblearn"
   ]
  },
  {
   "cell_type": "code",
   "execution_count": 23,
   "id": "e0bca6c0-a342-457a-a019-46e9119873c7",
   "metadata": {},
   "outputs": [
    {
     "name": "stdout",
     "output_type": "stream",
     "text": [
      "Requirement already satisfied: xgboost in c:\\users\\ayush\\tf_env\\lib\\site-packages (3.0.4)\n",
      "Requirement already satisfied: numpy in c:\\users\\ayush\\tf_env\\lib\\site-packages (from xgboost) (2.2.6)\n",
      "Requirement already satisfied: scipy in c:\\users\\ayush\\tf_env\\lib\\site-packages (from xgboost) (1.15.3)\n"
     ]
    }
   ],
   "source": [
    "!C:\\Users\\ayush\\tf_env\\Scripts\\python.exe -m pip install xgboost"
   ]
  },
  {
   "cell_type": "code",
   "execution_count": null,
   "id": "7713507d-417a-4a5a-80fa-7b382eb304f4",
   "metadata": {},
   "outputs": [],
   "source": [
    "import pandas as pd\n",
    "import numpy as np\n",
    "import matplotlib.pyplot as plt\n",
    "import seaborn as sns\n",
    "from sklearn.model_selection import train_test_split\n",
    "from sklearn.preprocessing import StandardScaler\n",
    "from sklearn.metrics import classification_report, roc_auc_score\n",
    "from imblearn.over_sampling import SMOTE\n",
    "from xgboost import XGBClassifier\n"
   ]
  },
  {
   "cell_type": "code",
   "execution_count": 12,
   "id": "50272e6a-9bf2-43a5-9733-e4dec4fa8e4c",
   "metadata": {},
   "outputs": [
    {
     "name": "stdout",
     "output_type": "stream",
     "text": [
      "Dataset Shape: (6362620, 11)\n",
      "   step      type    amount     nameOrig  oldbalanceOrg  newbalanceOrig  \\\n",
      "0     1   PAYMENT   9839.64  C1231006815       170136.0       160296.36   \n",
      "1     1   PAYMENT   1864.28  C1666544295        21249.0        19384.72   \n",
      "2     1  TRANSFER    181.00  C1305486145          181.0            0.00   \n",
      "3     1  CASH_OUT    181.00   C840083671          181.0            0.00   \n",
      "4     1   PAYMENT  11668.14  C2048537720        41554.0        29885.86   \n",
      "\n",
      "      nameDest  oldbalanceDest  newbalanceDest  isFraud  isFlaggedFraud  \n",
      "0  M1979787155             0.0             0.0        0               0  \n",
      "1  M2044282225             0.0             0.0        0               0  \n",
      "2   C553264065             0.0             0.0        1               0  \n",
      "3    C38997010         21182.0             0.0        1               0  \n",
      "4  M1230701703             0.0             0.0        0               0  \n"
     ]
    }
   ],
   "source": [
    "df = pd.read_csv(\"fraud.csv\")\n",
    "print(\"Dataset Shape:\", df.shape)\n",
    "print(df.head())\n"
   ]
  },
  {
   "cell_type": "code",
   "execution_count": 13,
   "id": "3d5a019b-c2fe-4e6d-b25b-76c352c91abd",
   "metadata": {},
   "outputs": [
    {
     "name": "stdout",
     "output_type": "stream",
     "text": [
      "\n",
      "Fraud Percentage:\n",
      "isFraud\n",
      "0    0.998709\n",
      "1    0.001291\n",
      "Name: proportion, dtype: float64\n"
     ]
    }
   ],
   "source": [
    "fraud_dist = df['isFraud'].value_counts(normalize=True)\n",
    "print(\"\\nFraud Percentage:\")\n",
    "print(fraud_dist)"
   ]
  },
  {
   "cell_type": "markdown",
   "id": "d1f58987-0822-4422-862b-d952694cb0b4",
   "metadata": {},
   "source": [
    "## 1. Data Cleaning\n",
    "- Dropped irrelevant columns: `nameOrig`, `nameDest`.\n",
    "- Checked for missing values — none found.\n",
    "- One-hot encoded `type` column (CASH-IN, CASH-OUT, DEBIT, PAYMENT, TRANSFER).\n",
    "- Created features:\n",
    "    - `errorBalanceOrig` = oldbalanceOrg - amount - newbalanceOrig\n",
    "    - `errorBalanceDest` = oldbalanceDest + amount - newbalanceDest\n"
   ]
  },
  {
   "cell_type": "code",
   "execution_count": 14,
   "id": "eb80d9a0-309a-49d7-bb58-19530e161547",
   "metadata": {},
   "outputs": [],
   "source": [
    "df = df.drop(['nameOrig', 'nameDest'], axis=1)\n",
    "df = pd.get_dummies(df, columns=['type'], drop_first=True)\n",
    "df['errorBalanceOrig'] = df['oldbalanceOrg'] - df['amount'] - df['newbalanceOrig']\n",
    "df['errorBalanceDest'] = df['oldbalanceDest'] + df['amount'] - df['newbalanceDest']"
   ]
  },
  {
   "cell_type": "code",
   "execution_count": 15,
   "id": "e3b570fb-a069-44ed-ae45-a94b28fd6078",
   "metadata": {},
   "outputs": [
    {
     "name": "stdout",
     "output_type": "stream",
     "text": [
      "\n",
      "Dataset after feature engineering:\n",
      "   step    amount  oldbalanceOrg  newbalanceOrig  oldbalanceDest  \\\n",
      "0     1   9839.64       170136.0       160296.36             0.0   \n",
      "1     1   1864.28        21249.0        19384.72             0.0   \n",
      "2     1    181.00          181.0            0.00             0.0   \n",
      "3     1    181.00          181.0            0.00         21182.0   \n",
      "4     1  11668.14        41554.0        29885.86             0.0   \n",
      "\n",
      "   newbalanceDest  isFraud  isFlaggedFraud  type_CASH_OUT  type_DEBIT  \\\n",
      "0             0.0        0               0          False       False   \n",
      "1             0.0        0               0          False       False   \n",
      "2             0.0        1               0          False       False   \n",
      "3             0.0        1               0           True       False   \n",
      "4             0.0        0               0          False       False   \n",
      "\n",
      "   type_PAYMENT  type_TRANSFER  errorBalanceOrig  errorBalanceDest  \n",
      "0          True          False               0.0           9839.64  \n",
      "1          True          False               0.0           1864.28  \n",
      "2         False           True               0.0            181.00  \n",
      "3         False          False               0.0          21363.00  \n",
      "4          True          False               0.0          11668.14  \n"
     ]
    }
   ],
   "source": [
    "print(\"\\nDataset after feature engineering:\")\n",
    "print(df.head())"
   ]
  },
  {
   "cell_type": "markdown",
   "id": "149c48d8-3018-4c05-9015-043ef28179af",
   "metadata": {},
   "source": [
    "## 2. Prepare Features and Target\n",
    "- Target variable: `isFraud`\n",
    "- Features: all remaining numeric and one-hot encoded columns\n",
    "- Train/test split: 80% train, 20% test, stratified by `isFraud`\n"
   ]
  },
  {
   "cell_type": "code",
   "execution_count": 24,
   "id": "f28473c6-f8d7-49c4-b0f0-20f7a0146110",
   "metadata": {},
   "outputs": [
    {
     "name": "stdout",
     "output_type": "stream",
     "text": [
      "Train shape: (5090096, 13)\n",
      "Test shape: (1272524, 13)\n"
     ]
    }
   ],
   "source": [
    "X = df.drop('isFraud', axis=1)\n",
    "y = df['isFraud']\n",
    "\n",
    "X_train, X_test, y_train, y_test = train_test_split(\n",
    "    X, y, test_size=0.2, stratify=y, random_state=42\n",
    ")\n",
    "\n",
    "scaler = StandardScaler()\n",
    "X_train_scaled = scaler.fit_transform(X_train)\n",
    "X_test_scaled = scaler.transform(X_test)\n",
    "\n",
    "print(\"Train shape:\", X_train_scaled.shape)\n",
    "print(\"Test shape:\", X_test_scaled.shape)\n"
   ]
  },
  {
   "cell_type": "markdown",
   "id": "61e19622-8e3b-405d-8cb9-03be7363f023",
   "metadata": {},
   "source": [
    "## 3. Handle Imbalance\n",
    "- Only 0.13% of transactions are fraud.\n",
    "- Used SMOTE to oversample the minority class in the training set.\n"
   ]
  },
  {
   "cell_type": "code",
   "execution_count": 26,
   "id": "0c20503a-d8d9-4e13-88a1-a5bc641739e6",
   "metadata": {},
   "outputs": [
    {
     "name": "stdout",
     "output_type": "stream",
     "text": [
      "\n",
      "Resampled train shape: (10167052, 13)\n",
      "Class distribution after resampling:\n",
      "isFraud\n",
      "0    5083526\n",
      "1    5083526\n",
      "Name: count, dtype: int64\n"
     ]
    }
   ],
   "source": [
    "from imblearn.over_sampling import SMOTE\n",
    "sm = SMOTE(random_state=42)\n",
    "X_train_res, y_train_res = sm.fit_resample(X_train_scaled, y_train)\n",
    "\n",
    "print(\"\\nResampled train shape:\", X_train_res.shape)\n",
    "print(\"Class distribution after resampling:\")\n",
    "print(pd.Series(y_train_res).value_counts())"
   ]
  },
  {
   "cell_type": "markdown",
   "id": "19438071-438a-456e-ba82-21eb824e8954",
   "metadata": {},
   "source": [
    "## 4. Fraud Detection Model\n",
    "- Model used: XGBoost Classifier\n",
    "- Trained on resampled (balanced) training data\n",
    "- Evaluated on original test data\n"
   ]
  },
  {
   "cell_type": "code",
   "execution_count": 27,
   "id": "c4cf3e3f-b283-4a6e-a19b-83731f579bf1",
   "metadata": {},
   "outputs": [
    {
     "name": "stderr",
     "output_type": "stream",
     "text": [
      "C:\\Users\\ayush\\tf_env\\lib\\site-packages\\xgboost\\training.py:183: UserWarning: [15:02:28] WARNING: C:\\actions-runner\\_work\\xgboost\\xgboost\\src\\learner.cc:738: \n",
      "Parameters: { \"use_label_encoder\" } are not used.\n",
      "\n",
      "  bst.update(dtrain, iteration=i, fobj=obj)\n"
     ]
    },
    {
     "name": "stdout",
     "output_type": "stream",
     "text": [
      "              precision    recall  f1-score   support\n",
      "\n",
      "           0       1.00      1.00      1.00   1270881\n",
      "           1       0.74      1.00      0.85      1643\n",
      "\n",
      "    accuracy                           1.00   1272524\n",
      "   macro avg       0.87      1.00      0.93   1272524\n",
      "weighted avg       1.00      1.00      1.00   1272524\n",
      "\n",
      "ROC-AUC Score: 0.9999555675546504\n"
     ]
    }
   ],
   "source": [
    "model = XGBClassifier(\n",
    "    n_estimators=100,\n",
    "    max_depth=6,\n",
    "    learning_rate=0.1,\n",
    "    random_state=42,\n",
    "    use_label_encoder=False,\n",
    "    eval_metric='logloss'\n",
    ")\n",
    "\n",
    "model.fit(X_train_res, y_train_res)\n",
    "\n",
    "y_pred = model.predict(X_test_scaled)\n",
    "y_proba = model.predict_proba(X_test_scaled)[:,1]\n",
    "\n",
    "print(classification_report(y_test, y_pred))\n",
    "print(\"ROC-AUC Score:\", roc_auc_score(y_test, y_proba))\n"
   ]
  },
  {
   "cell_type": "markdown",
   "id": "a46a8851-0fbc-449a-8541-d135c06800eb",
   "metadata": {},
   "source": [
    "## 5. Key Factors Predicting Fraud\n",
    "- Top features from XGBoost:\n",
    "    - errorBalanceOrig\n",
    "    - newbalanceOrig\n",
    "    - amount\n",
    "    - isFlaggedFraud\n",
    "    - type_PAYMENT\n",
    "- These features align with fraudulent behavior: unusual balance changes, high-value transfers, pre-flagged transfers.\n"
   ]
  },
  {
   "cell_type": "code",
   "execution_count": null,
   "id": "80b6e1ed-982b-495b-92d3-3dcff83d2cb3",
   "metadata": {},
   "outputs": [],
   "source": [
    "feat_imp = pd.DataFrame({\n",
    "    'feature': X.columns,\n",
    "    'importance': model.feature_importances_\n",
    "}).sort_values(by='importance', ascending=False)\n",
    "\n",
    "print(\"\\nFeature Importance:\")\n",
    "print(feat_imp.head(10))"
   ]
  },
  {
   "cell_type": "code",
   "execution_count": 22,
   "id": "c03ab8ea-5c2a-453e-8c90-c3b4536febcf",
   "metadata": {},
   "outputs": [
    {
     "data": {
      "image/png": "[encoded data removed]",
      "text/plain": [
       "<Figure size 1000x600 with 1 Axes>"
      ]
     },
     "metadata": {},
     "output_type": "display_data"
    }
   ],
   "source": [
    "plt.figure(figsize=(10,6))\n",
    "plt.barh(feat_imp['feature'], feat_imp['importance'])\n",
    "plt.gca().invert_yaxis()\n",
    "plt.title(\"Top Feature Importance in Fraud Detection\")\n",
    "plt.xlabel(\"Importance\")\n",
    "plt.show()"
   ]
  },
  {
   "cell_type": "markdown",
   "id": "f2fb6799-c14c-4ddf-80a0-3e84a38d661c",
   "metadata": {},
   "source": [
    "## 6. Recommendations\n",
    "- Real-time monitoring of transactions\n",
    "- Transaction limits and alerts for unusual balances\n",
    "- Two-factor authentication (2FA)\n",
    "- Regular retraining of fraud detection model\n",
    "- Monitor financial losses prevented and false positives to check effectiveness\n"
   ]
  },
  {
   "cell_type": "code",
   "execution_count": null,
   "id": "5be7d96d-ced7-4cff-b703-7dbf3d879478",
   "metadata": {},
   "outputs": [],
   "source": []
  }
 ],
 "metadata": {
  "kernelspec": {
   "display_name": "Python 3.10 (tf_env)",
   "language": "python",
   "name": "tf_env"
  },
  "language_info": {
   "codemirror_mode": {
    "name": "ipython",
    "version": 3
   },
   "file_extension": ".py",
   "mimetype": "text/x-python",
   "name": "python",
   "nbconvert_exporter": "python",
   "pygments_lexer": "ipython3",
   "version": "3.10.0"
  }
 },
 "nbformat": 4,
 "nbformat_minor": 5
}
